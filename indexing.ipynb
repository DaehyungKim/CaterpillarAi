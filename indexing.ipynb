{
 "cells": [
  {
   "cell_type": "code",
   "execution_count": 123,
   "id": "79c14df9",
   "metadata": {},
   "outputs": [
    {
     "name": "stdout",
     "output_type": "stream",
     "text": [
      "'박': 0\n",
      "'한': 1\n",
      "'슬': 2\n",
      "'의': 3\n",
      "' ': 4\n",
      "'문': 5\n",
      "'학': 6\n",
      "'작': 7\n",
      "'품': 8\n",
      "' ': 9\n",
      "'중': 10\n",
      "' ': 11\n",
      "'도': 12\n",
      "'서': 13\n",
      "'관': 14\n",
      "'에': 15\n",
      "' ': 16\n",
      "'있': 17\n",
      "'는': 18\n",
      "' ': 19\n",
      "'책': 20\n",
      "' ': 21\n",
      "'좀': 22\n",
      "' ': 23\n",
      "'보': 24\n",
      "'여': 25\n",
      "'줄': 26\n",
      "' ': 27\n",
      "'수': 28\n",
      "' ': 29\n",
      "'있': 30\n",
      "'나': 31\n",
      "'요': 32\n",
      "'?': 33\n"
     ]
    }
   ],
   "source": [
    "text = \"박한슬의 문학작품 중 도서관에 있는 책 좀 보여줄 수 있나요?\"\n",
    "for index, char in enumerate(text):\n",
    "    print(f\"'{char}': {index}\")"
   ]
  }
 ],
 "metadata": {
  "kernelspec": {
   "display_name": "venv",
   "language": "python",
   "name": "python3"
  },
  "language_info": {
   "codemirror_mode": {
    "name": "ipython",
    "version": 3
   },
   "file_extension": ".py",
   "mimetype": "text/x-python",
   "name": "python",
   "nbconvert_exporter": "python",
   "pygments_lexer": "ipython3",
   "version": "3.12.7"
  }
 },
 "nbformat": 4,
 "nbformat_minor": 5
}
