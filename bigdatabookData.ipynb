{
 "cells": [
  {
   "cell_type": "code",
   "execution_count": 9,
   "id": "70e89dea",
   "metadata": {},
   "outputs": [
    {
     "name": "stderr",
     "output_type": "stream",
     "text": [
      "C:\\Users\\JA104\\AppData\\Local\\Temp\\ipykernel_15812\\3688443029.py:7: DtypeWarning: Columns (7) have mixed types. Specify dtype option on import or set low_memory=False.\n",
      "  df = pd.read_csv(file_path)\n"
     ]
    }
   ],
   "source": [
    "import pandas as pd\n",
    "import json\n",
    "import re\n",
    "\n",
    "file_path = 'bigbooks.csv'\n",
    "\n",
    "df = pd.read_csv(file_path)\n",
    "\n",
    "title_list = df['TITLE_NM'].tolist()\n",
    "\n",
    "# 전처리 함수 정의\n",
    "def clean_title(title):\n",
    "    # ' - ' 앞부분만 추출\n",
    "    title = title.split(' - ')[0].strip()\n",
    "    # 괄호 내용 제거\n",
    "    title = re.sub(r'\\(.*?\\)', '', title)\n",
    "    # 따옴표 제거\n",
    "    title = re.sub(r\"[\\\"'“”‘’]\", '', title)\n",
    "    return title.strip()\n",
    "\n",
    "# 모든 제목 정제\n",
    "cleaned_titles = [clean_title(title) for title in title_list]\n",
    "\n",
    "# JSON 저장\n",
    "with open('title_list.json', 'w', encoding='utf-8') as f:\n",
    "    json.dump(cleaned_titles, f, ensure_ascii=False, indent=2)\n"
   ]
  },
  {
   "cell_type": "code",
   "execution_count": null,
   "id": "26171ac9",
   "metadata": {},
   "outputs": [],
   "source": []
  }
 ],
 "metadata": {
  "kernelspec": {
   "display_name": "venv",
   "language": "python",
   "name": "python3"
  },
  "language_info": {
   "codemirror_mode": {
    "name": "ipython",
    "version": 3
   },
   "file_extension": ".py",
   "mimetype": "text/x-python",
   "name": "python",
   "nbconvert_exporter": "python",
   "pygments_lexer": "ipython3",
   "version": "3.13.3"
  }
 },
 "nbformat": 4,
 "nbformat_minor": 5
}
